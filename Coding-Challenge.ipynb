{
 "cells": [
  {
   "cell_type": "markdown",
   "metadata": {},
   "source": [
    "# Q1"
   ]
  },
  {
   "cell_type": "code",
   "execution_count": 1,
   "metadata": {
    "collapsed": false
   },
   "outputs": [
    {
     "data": {
      "text/html": [
       "<div>\n",
       "<style>\n",
       "    .dataframe thead tr:only-child th {\n",
       "        text-align: right;\n",
       "    }\n",
       "\n",
       "    .dataframe thead th {\n",
       "        text-align: left;\n",
       "    }\n",
       "\n",
       "    .dataframe tbody tr th {\n",
       "        vertical-align: top;\n",
       "    }\n",
       "</style>\n",
       "<table border=\"1\" class=\"dataframe\">\n",
       "  <thead>\n",
       "    <tr style=\"text-align: right;\">\n",
       "      <th></th>\n",
       "      <th>user_id</th>\n",
       "      <th>ad_id</th>\n",
       "      <th>clicked_on_ad</th>\n",
       "    </tr>\n",
       "  </thead>\n",
       "  <tbody>\n",
       "    <tr>\n",
       "      <th>0</th>\n",
       "      <td>20</td>\n",
       "      <td>308</td>\n",
       "      <td>0</td>\n",
       "    </tr>\n",
       "    <tr>\n",
       "      <th>1</th>\n",
       "      <td>35</td>\n",
       "      <td>270</td>\n",
       "      <td>0</td>\n",
       "    </tr>\n",
       "    <tr>\n",
       "      <th>2</th>\n",
       "      <td>36</td>\n",
       "      <td>168</td>\n",
       "      <td>0</td>\n",
       "    </tr>\n",
       "    <tr>\n",
       "      <th>3</th>\n",
       "      <td>21</td>\n",
       "      <td>479</td>\n",
       "      <td>0</td>\n",
       "    </tr>\n",
       "    <tr>\n",
       "      <th>4</th>\n",
       "      <td>86</td>\n",
       "      <td>321</td>\n",
       "      <td>0</td>\n",
       "    </tr>\n",
       "  </tbody>\n",
       "</table>\n",
       "</div>"
      ],
      "text/plain": [
       "   user_id  ad_id  clicked_on_ad\n",
       "0       20    308              0\n",
       "1       35    270              0\n",
       "2       36    168              0\n",
       "3       21    479              0\n",
       "4       86    321              0"
      ]
     },
     "execution_count": 1,
     "metadata": {},
     "output_type": "execute_result"
    }
   ],
   "source": [
    "import pandas as pd\n",
    "\n",
    "df = pd.read_csv('q1/click_event_log.csv')\n",
    "df.head()"
   ]
  },
  {
   "cell_type": "code",
   "execution_count": 3,
   "metadata": {
    "collapsed": false
   },
   "outputs": [
    {
     "name": "stderr",
     "output_type": "stream",
     "text": [
      "/home/ubuntu/anaconda2/lib/python2.7/site-packages/ipykernel/__main__.py:9: FutureWarning: reshape is deprecated and will raise in a subsequent release. Please use .values.reshape(...) instead\n",
      "/home/ubuntu/anaconda2/lib/python2.7/site-packages/ipykernel/__main__.py:10: FutureWarning: reshape is deprecated and will raise in a subsequent release. Please use .values.reshape(...) instead\n"
     ]
    }
   ],
   "source": [
    "from sklearn.preprocessing import OneHotEncoder\n",
    "from scipy.sparse import hstack\n",
    "from sklearn.metrics import confusion_matrix\n",
    "from sklearn.model_selection import train_test_split\n",
    "\n",
    "\n",
    "ohe_user = OneHotEncoder()\n",
    "ohe_ad = OneHotEncoder()\n",
    "user_features = ohe_user.fit_transform(df['user_id'].reshape((-1, 1)))\n",
    "ad_features = ohe_ad.fit_transform(df['ad_id'].reshape((-1, 1)))\n",
    "X = hstack([user_features, ad_features]).todense()\n",
    "\n",
    "y = df['clicked_on_ad'].values\n",
    "\n",
    "X_train, X_test, y_train, y_test = train_test_split(X, y, test_size=0.2, random_state=42)"
   ]
  },
  {
   "cell_type": "code",
   "execution_count": null,
   "metadata": {
    "collapsed": true
   },
   "outputs": [],
   "source": []
  },
  {
   "cell_type": "code",
   "execution_count": 5,
   "metadata": {
    "collapsed": false,
    "scrolled": true
   },
   "outputs": [
    {
     "name": "stdout",
     "output_type": "stream",
     "text": [
      "OOB score: 0.83175\n",
      "[[844  10]\n",
      " [146   0]]\n"
     ]
    }
   ],
   "source": [
    "from sklearn.ensemble import RandomForestClassifier\n",
    "\n",
    "clf = RandomForestClassifier(n_estimators=100, oob_score=True)\n",
    "clf.fit(X_train, y_train)\n",
    "print(\"OOB score: {}\".format(clf.oob_score_))\n",
    "\n",
    "predictions = clf.predict(X_test)\n",
    "print(confusion_matrix(y_test, predictions))"
   ]
  },
  {
   "cell_type": "markdown",
   "metadata": {},
   "source": [
    "a. Given a user_id and an ad_id, create a model that will predict the probability that the user will click on the ad. List any assumptions you make about the data when you create this model. What does this model output for user_id 12 and ad_id 10? What about user_id 50 and ad_id 177? Finally, what about user_id 13 and ad_id 241?"
   ]
  },
  {
   "cell_type": "code",
   "execution_count": 30,
   "metadata": {
    "collapsed": false
   },
   "outputs": [
    {
     "data": {
      "text/plain": [
       "array([0, 0, 0], dtype=int64)"
      ]
     },
     "execution_count": 30,
     "metadata": {},
     "output_type": "execute_result"
    }
   ],
   "source": [
    "import numpy as np\n",
    "\n",
    "users = np.array([12, 50, 13]).reshape((-1, 1)) - 1\n",
    "ads = np.array([10, 177, 241]).reshape((-1, 1)) - 1\n",
    "\n",
    "user_features = ohe_user.transform(users)\n",
    "ad_features = ohe_ad.transform(ads)\n",
    "features = hstack([user_features, ad_features]).todense()\n",
    "\n",
    "clf.predict(features)"
   ]
  },
  {
   "cell_type": "code",
   "execution_count": null,
   "metadata": {
    "collapsed": true
   },
   "outputs": [],
   "source": []
  },
  {
   "cell_type": "code",
   "execution_count": null,
   "metadata": {
    "collapsed": true
   },
   "outputs": [],
   "source": []
  },
  {
   "cell_type": "markdown",
   "metadata": {},
   "source": [
    "# Q2"
   ]
  },
  {
   "cell_type": "code",
   "execution_count": 1,
   "metadata": {
    "collapsed": false,
    "scrolled": false
   },
   "outputs": [
    {
     "data": {
      "text/html": [
       "<div>\n",
       "<style>\n",
       "    .dataframe thead tr:only-child th {\n",
       "        text-align: right;\n",
       "    }\n",
       "\n",
       "    .dataframe thead th {\n",
       "        text-align: left;\n",
       "    }\n",
       "\n",
       "    .dataframe tbody tr th {\n",
       "        vertical-align: top;\n",
       "    }\n",
       "</style>\n",
       "<table border=\"1\" class=\"dataframe\">\n",
       "  <thead>\n",
       "    <tr style=\"text-align: right;\">\n",
       "      <th></th>\n",
       "      <th>log_azimuth</th>\n",
       "      <th>log_altitiude</th>\n",
       "      <th>lens_size</th>\n",
       "      <th>months_in_operation</th>\n",
       "      <th>observed_image_output</th>\n",
       "    </tr>\n",
       "  </thead>\n",
       "  <tbody>\n",
       "    <tr>\n",
       "      <th>0</th>\n",
       "      <td>2.351222</td>\n",
       "      <td>2.996789</td>\n",
       "      <td>8.041122</td>\n",
       "      <td>1</td>\n",
       "      <td>0</td>\n",
       "    </tr>\n",
       "    <tr>\n",
       "      <th>1</th>\n",
       "      <td>2.379440</td>\n",
       "      <td>3.050773</td>\n",
       "      <td>5.448220</td>\n",
       "      <td>3</td>\n",
       "      <td>0</td>\n",
       "    </tr>\n",
       "    <tr>\n",
       "      <th>2</th>\n",
       "      <td>2.441207</td>\n",
       "      <td>3.071607</td>\n",
       "      <td>2.134721</td>\n",
       "      <td>3</td>\n",
       "      <td>0</td>\n",
       "    </tr>\n",
       "    <tr>\n",
       "      <th>3</th>\n",
       "      <td>2.454324</td>\n",
       "      <td>3.127072</td>\n",
       "      <td>7.271947</td>\n",
       "      <td>1</td>\n",
       "      <td>0</td>\n",
       "    </tr>\n",
       "    <tr>\n",
       "      <th>4</th>\n",
       "      <td>2.465330</td>\n",
       "      <td>3.162127</td>\n",
       "      <td>6.854447</td>\n",
       "      <td>0</td>\n",
       "      <td>0</td>\n",
       "    </tr>\n",
       "  </tbody>\n",
       "</table>\n",
       "</div>"
      ],
      "text/plain": [
       "   log_azimuth  log_altitiude  lens_size  months_in_operation  \\\n",
       "0     2.351222       2.996789   8.041122                    1   \n",
       "1     2.379440       3.050773   5.448220                    3   \n",
       "2     2.441207       3.071607   2.134721                    3   \n",
       "3     2.454324       3.127072   7.271947                    1   \n",
       "4     2.465330       3.162127   6.854447                    0   \n",
       "\n",
       "   observed_image_output  \n",
       "0                      0  \n",
       "1                      0  \n",
       "2                      0  \n",
       "3                      0  \n",
       "4                      0  "
      ]
     },
     "execution_count": 1,
     "metadata": {},
     "output_type": "execute_result"
    }
   ],
   "source": [
    "import matplotlib.pyplot as plt\n",
    "%matplotlib inline\n",
    "import pandas as pd\n",
    "\n",
    "df = pd.read_csv('q2/satelite_20.csv')\n",
    "df.head()"
   ]
  },
  {
   "cell_type": "code",
   "execution_count": 2,
   "metadata": {
    "collapsed": false
   },
   "outputs": [
    {
     "name": "stdout",
     "output_type": "stream",
     "text": [
      "Counter({0: 51, 1: 51, 2: 51})\n"
     ]
    },
    {
     "data": {
      "image/png": "[encoded data removed]",
      "text/plain": [
       "<matplotlib.figure.Figure at 0x7f86703e39d0>"
      ]
     },
     "metadata": {},
     "output_type": "display_data"
    },
    {
     "data": {
      "image/png": "[encoded data removed]",
      "text/plain": [
       "<matplotlib.figure.Figure at 0x7f863da6dd90>"
      ]
     },
     "metadata": {},
     "output_type": "display_data"
    }
   ],
   "source": [
    "# Exploratory Data Analysis\n",
    "from collections import Counter\n",
    "\n",
    "print(Counter(df['observed_image_output']))\n",
    "\n",
    "color_dict = {0: 'red', 1: 'orange', 2: 'yellow', 3: 'green', 4: 'blue'}\n",
    "\n",
    "plt.scatter(df['log_azimuth'], df['log_altitiude'], \n",
    "            c=[color_dict[element] for element in df['observed_image_output']],\n",
    "           s=(df['observed_image_output'] + 1) * 50)\n",
    "plt.xlabel('Log Azimuth'); plt.ylabel('log Altitude'); plt.title('Satellite Metrics for Different Image Outputs')\n",
    "plt.show()\n",
    "\n",
    "for grp in df.groupby('observed_image_output'): # adding lens size and observed_image_output\n",
    "    df_temp = grp[1]\n",
    "    plt.scatter(df_temp['log_azimuth'], df_temp['log_altitiude'], \n",
    "                c=[color_dict[element] for element in df_temp['months_in_operation']],\n",
    "               s=(df_temp['lens_size']) * 10, marker=['v', 'o', 's'][grp[0]], label='Group {}'.format(grp[0]))\n",
    "    plt.legend()\n",
    "    plt.xlabel('Log Azimuth'); plt.ylabel('log Altitude'); plt.title('Incorporating Lens Size and Months')"
   ]
  },
  {
   "cell_type": "markdown",
   "metadata": {},
   "source": [
    "### Q2.a"
   ]
  },
  {
   "cell_type": "code",
   "execution_count": 3,
   "metadata": {
    "collapsed": false
   },
   "outputs": [
    {
     "name": "stdout",
     "output_type": "stream",
     "text": [
      "[[ 7  0  0]\n",
      " [ 0 14  1]\n",
      " [ 0  0  9]]\n"
     ]
    }
   ],
   "source": [
    "from sklearn import preprocessing\n",
    "from sklearn.model_selection import train_test_split\n",
    "from sklearn import neighbors\n",
    "from sklearn.metrics import confusion_matrix\n",
    "\n",
    "rescaler = preprocessing.Normalizer()\n",
    "X = rescaler.fit_transform(df[['log_azimuth', 'log_altitiude']])\n",
    "y = df['observed_image_output']\n",
    "X_train, X_test, y_train, y_test = train_test_split(X, y, test_size=0.2)\n",
    "\n",
    "\n",
    "n_neighbors = 5\n",
    "clf = neighbors.KNeighborsClassifier(n_neighbors)\n",
    "clf.fit(X_train, y_train)\n",
    "\n",
    "predictions = clf.predict(X_test)\n",
    "print(confusion_matrix(y_test, predictions)) "
   ]
  },
  {
   "cell_type": "markdown",
   "metadata": {},
   "source": [
    "### Q2.b"
   ]
  },
  {
   "cell_type": "code",
   "execution_count": 4,
   "metadata": {
    "collapsed": false
   },
   "outputs": [
    {
     "name": "stdout",
     "output_type": "stream",
     "text": [
      "[0 0 0 0 2 2 1 1 2 2 2 2]\n"
     ]
    }
   ],
   "source": [
    "df_test = pd.read_csv('q2/satelite_20_test.csv')\n",
    "print(clf.predict(df_test[['log_azimuth', 'log_altitiude']])) # yay! correct predictions"
   ]
  },
  {
   "cell_type": "markdown",
   "metadata": {
    "collapsed": true
   },
   "source": [
    "### Discussion\n",
    "Took me many tries. I used XGBoost and Random Forest (with Out-of-Bag-Error) with cross validation and grid search. I wish I had more time so that I would be comfortable working out the Explatory Data Analysis with plots.\n",
    "\n",
    "From inspection of the plot, I determined that log_azimuth and log_altitiude are the main features. I do not know lens_size and months_in_operation. My only concern is that I performed manual feature selection/importance; but I assume these features are important because the satellite travels in a mechanical way with minimal deviance from its path. In addition, below is a random forest model that shows feature importance that supports my beliefs.\n",
    "\n",
    "With different train_test_split, I've run the K-Nearest Neighbors (KNN) model multiple times and most predictions for the validation set are correct. The errors are when it cannot determine whether the picture was from group 1 or 2 since the satellite moves in similar trajectories for those. Ideally, I wanted to create a classifier that checks distance from each image_output's satellite trajectory. I settled with KNN because it appears to work well and I'm low on time."
   ]
  },
  {
   "cell_type": "markdown",
   "metadata": {
    "collapsed": false
   },
   "source": [
    "### Deprecated: Random Forest Model with Feature Importance"
   ]
  },
  {
   "cell_type": "code",
   "execution_count": 5,
   "metadata": {
    "collapsed": false
   },
   "outputs": [
    {
     "name": "stdout",
     "output_type": "stream",
     "text": [
      "OOB score: 0.745098039216\n"
     ]
    },
    {
     "data": {
      "image/png": "[encoded data removed]",
      "text/plain": [
       "<matplotlib.figure.Figure at 0x7f863da17650>"
      ]
     },
     "metadata": {},
     "output_type": "display_data"
    }
   ],
   "source": [
    "from sklearn.ensemble import RandomForestClassifier\n",
    "\n",
    "df = pd.read_csv('q2/satelite_20.csv')\n",
    "\n",
    "X = df.drop('observed_image_output', axis=1)\n",
    "y = df['observed_image_output']\n",
    "\n",
    "clf = RandomForestClassifier(n_estimators=100, oob_score=True)\n",
    "clf.fit(X, y)\n",
    "print(\"OOB score: {}\".format(clf.oob_score_))\n",
    "\n",
    "xlabels = df.columns[:-1]\n",
    "plt.figure(figsize=(12, 8))\n",
    "plt.plot(clf.feature_importances_, 'o-')\n",
    "plt.xticks(range(len(xlabels)), xlabels, rotation=90)\n",
    "plt.title(\"Feature Importance for Classifying Image Output\")\n",
    "plt.show()"
   ]
  },
  {
   "cell_type": "code",
   "execution_count": null,
   "metadata": {
    "collapsed": true
   },
   "outputs": [],
   "source": []
  },
  {
   "cell_type": "markdown",
   "metadata": {},
   "source": [
    "# Q3"
   ]
  },
  {
   "cell_type": "code",
   "execution_count": 1,
   "metadata": {
    "collapsed": false
   },
   "outputs": [
    {
     "data": {
      "text/html": [
       "<div>\n",
       "<style>\n",
       "    .dataframe thead tr:only-child th {\n",
       "        text-align: right;\n",
       "    }\n",
       "\n",
       "    .dataframe thead th {\n",
       "        text-align: left;\n",
       "    }\n",
       "\n",
       "    .dataframe tbody tr th {\n",
       "        vertical-align: top;\n",
       "    }\n",
       "</style>\n",
       "<table border=\"1\" class=\"dataframe\">\n",
       "  <thead>\n",
       "    <tr style=\"text-align: right;\">\n",
       "      <th></th>\n",
       "      <th>from_dam</th>\n",
       "      <th>to_dam</th>\n",
       "      <th>amount</th>\n",
       "      <th>week</th>\n",
       "    </tr>\n",
       "  </thead>\n",
       "  <tbody>\n",
       "    <tr>\n",
       "      <th>0</th>\n",
       "      <td>2</td>\n",
       "      <td>7</td>\n",
       "      <td>685</td>\n",
       "      <td>1</td>\n",
       "    </tr>\n",
       "    <tr>\n",
       "      <th>1</th>\n",
       "      <td>3</td>\n",
       "      <td>8</td>\n",
       "      <td>423</td>\n",
       "      <td>2</td>\n",
       "    </tr>\n",
       "    <tr>\n",
       "      <th>2</th>\n",
       "      <td>6</td>\n",
       "      <td>9</td>\n",
       "      <td>1026</td>\n",
       "      <td>3</td>\n",
       "    </tr>\n",
       "    <tr>\n",
       "      <th>3</th>\n",
       "      <td>7</td>\n",
       "      <td>9</td>\n",
       "      <td>817</td>\n",
       "      <td>4</td>\n",
       "    </tr>\n",
       "    <tr>\n",
       "      <th>4</th>\n",
       "      <td>3</td>\n",
       "      <td>8</td>\n",
       "      <td>2858</td>\n",
       "      <td>5</td>\n",
       "    </tr>\n",
       "  </tbody>\n",
       "</table>\n",
       "</div>"
      ],
      "text/plain": [
       "   from_dam  to_dam  amount  week\n",
       "0         2       7     685     1\n",
       "1         3       8     423     2\n",
       "2         6       9    1026     3\n",
       "3         7       9     817     4\n",
       "4         3       8    2858     5"
      ]
     },
     "execution_count": 1,
     "metadata": {},
     "output_type": "execute_result"
    }
   ],
   "source": [
    "import pandas as pd\n",
    "\n",
    "df_dams = pd.read_csv('q3/dams.csv')\n",
    "df_dams.head()"
   ]
  },
  {
   "cell_type": "code",
   "execution_count": 2,
   "metadata": {
    "collapsed": false
   },
   "outputs": [],
   "source": [
    "from collections import defaultdict\n",
    "\n",
    "dam_connections = defaultdict(list)\n",
    "\n",
    "for from_dam, to_dam, amount in df_dams.drop('week', axis=1).values:\n",
    "    connection_pair = tuple(sorted([from_dam, to_dam]))\n",
    "    dam_connections[connection_pair].append(amount)"
   ]
  },
  {
   "cell_type": "markdown",
   "metadata": {},
   "source": [
    "### Q3.a   # What do you mean by schematic"
   ]
  },
  {
   "cell_type": "code",
   "execution_count": 3,
   "metadata": {
    "collapsed": false
   },
   "outputs": [],
   "source": [
    "dam_volume = defaultdict(dict)\n",
    "all_dams = set(df_dams.from_dam)\n",
    "\n",
    "for dam in all_dams:\n",
    "    dam_volume[dam][0] = 10000\n",
    "\n",
    "for from_dam, to_dam, amount, week in df_dams.values:\n",
    "    if from_dam != to_dam:\n",
    "        dam_volume[from_dam][week] = dam_volume[from_dam][week - 1] - amount\n",
    "        dam_volume[to_dam][week] = dam_volume[to_dam][week - 1] + amount\n",
    "    else:\n",
    "        dam_volume[from_dam][week] = dam_volume[from_dam][week - 1]\n",
    "    \n",
    "    for dam in (all_dams - set([from_dam, to_dam])):\n",
    "        dam_volume[dam][week] = dam_volume[dam][week - 1]\n",
    "        \n",
    "    assert sum(dam_volume[dam][week] for dam in all_dams) == 100000, 'problem' # make sure all water is conserved"
   ]
  },
  {
   "cell_type": "markdown",
   "metadata": {},
   "source": [
    "### Q3.b"
   ]
  },
  {
   "cell_type": "code",
   "execution_count": 4,
   "metadata": {
    "collapsed": false
   },
   "outputs": [
    {
     "data": {
      "text/html": [
       "<div>\n",
       "<style>\n",
       "    .dataframe thead tr:only-child th {\n",
       "        text-align: right;\n",
       "    }\n",
       "\n",
       "    .dataframe thead th {\n",
       "        text-align: left;\n",
       "    }\n",
       "\n",
       "    .dataframe tbody tr th {\n",
       "        vertical-align: top;\n",
       "    }\n",
       "</style>\n",
       "<table border=\"1\" class=\"dataframe\">\n",
       "  <thead>\n",
       "    <tr style=\"text-align: right;\">\n",
       "      <th></th>\n",
       "      <th>1</th>\n",
       "      <th>2</th>\n",
       "      <th>3</th>\n",
       "      <th>4</th>\n",
       "      <th>5</th>\n",
       "      <th>6</th>\n",
       "      <th>7</th>\n",
       "      <th>8</th>\n",
       "      <th>9</th>\n",
       "      <th>10</th>\n",
       "    </tr>\n",
       "  </thead>\n",
       "  <tbody>\n",
       "    <tr>\n",
       "      <th>0</th>\n",
       "      <td>10000</td>\n",
       "      <td>10000</td>\n",
       "      <td>10000</td>\n",
       "      <td>10000</td>\n",
       "      <td>10000</td>\n",
       "      <td>10000</td>\n",
       "      <td>10000</td>\n",
       "      <td>10000</td>\n",
       "      <td>10000</td>\n",
       "      <td>10000</td>\n",
       "    </tr>\n",
       "    <tr>\n",
       "      <th>1</th>\n",
       "      <td>10000</td>\n",
       "      <td>9315</td>\n",
       "      <td>10000</td>\n",
       "      <td>10000</td>\n",
       "      <td>10000</td>\n",
       "      <td>10000</td>\n",
       "      <td>10685</td>\n",
       "      <td>10000</td>\n",
       "      <td>10000</td>\n",
       "      <td>10000</td>\n",
       "    </tr>\n",
       "    <tr>\n",
       "      <th>2</th>\n",
       "      <td>10000</td>\n",
       "      <td>9315</td>\n",
       "      <td>9577</td>\n",
       "      <td>10000</td>\n",
       "      <td>10000</td>\n",
       "      <td>10000</td>\n",
       "      <td>10685</td>\n",
       "      <td>10423</td>\n",
       "      <td>10000</td>\n",
       "      <td>10000</td>\n",
       "    </tr>\n",
       "    <tr>\n",
       "      <th>3</th>\n",
       "      <td>10000</td>\n",
       "      <td>9315</td>\n",
       "      <td>9577</td>\n",
       "      <td>10000</td>\n",
       "      <td>10000</td>\n",
       "      <td>8974</td>\n",
       "      <td>10685</td>\n",
       "      <td>10423</td>\n",
       "      <td>11026</td>\n",
       "      <td>10000</td>\n",
       "    </tr>\n",
       "    <tr>\n",
       "      <th>4</th>\n",
       "      <td>10000</td>\n",
       "      <td>9315</td>\n",
       "      <td>9577</td>\n",
       "      <td>10000</td>\n",
       "      <td>10000</td>\n",
       "      <td>8974</td>\n",
       "      <td>9868</td>\n",
       "      <td>10423</td>\n",
       "      <td>11843</td>\n",
       "      <td>10000</td>\n",
       "    </tr>\n",
       "  </tbody>\n",
       "</table>\n",
       "</div>"
      ],
      "text/plain": [
       "      1      2      3      4      5      6      7      8      9      10\n",
       "0  10000  10000  10000  10000  10000  10000  10000  10000  10000  10000\n",
       "1  10000   9315  10000  10000  10000  10000  10685  10000  10000  10000\n",
       "2  10000   9315   9577  10000  10000  10000  10685  10423  10000  10000\n",
       "3  10000   9315   9577  10000  10000   8974  10685  10423  11026  10000\n",
       "4  10000   9315   9577  10000  10000   8974   9868  10423  11843  10000"
      ]
     },
     "execution_count": 4,
     "metadata": {},
     "output_type": "execute_result"
    }
   ],
   "source": [
    "df_log = pd.read_csv('q3/foremen_log.csv')\n",
    "\n",
    "def get_cracked_dams(string):\n",
    "    if string == 'none':\n",
    "        return None\n",
    "    else:\n",
    "        return list(int(number) for number in string.split(', '))\n",
    "\n",
    "df_log['dams_cracked'] = df_log['dams_cracked'].apply(get_cracked_dams)\n",
    "\n",
    "pd.DataFrame(dam_volume).head() # ledger of dam volume"
   ]
  },
  {
   "cell_type": "code",
   "execution_count": 5,
   "metadata": {
    "collapsed": false
   },
   "outputs": [],
   "source": [
    "volume_in_cracked_dams = defaultdict(list)\n",
    "uncracked_dam_volumes = dict()\n",
    "\n",
    "for week, dams_cracked in df_log.values:\n",
    "    if dams_cracked:\n",
    "        for dam in dams_cracked:\n",
    "            volume_in_cracked_dams[dam].append(dam_volume[dam][week])\n",
    "        uncracked_dams = all_dams - set(dams_cracked)\n",
    "        uncracked_dam_volumes[week] = sorted(dam_volume[dam][week] for dam in uncracked_dams)[-1]\n",
    "    elif dams_cracked is None:\n",
    "        uncracked_dam_volumes[week] = sorted(dam_volume[dam][week] for dam in all_dams)[-1]\n",
    "    else:\n",
    "        \"Print unexpected error\""
   ]
  },
  {
   "cell_type": "code",
   "execution_count": 6,
   "metadata": {
    "collapsed": false
   },
   "outputs": [
    {
     "name": "stdout",
     "output_type": "stream",
     "text": [
      "True\n"
     ]
    }
   ],
   "source": [
    "def predict_crack(dam_volume_list, dam_threshold_no_crack, dam_threshold_crack):\n",
    "    cracked_dams = []\n",
    "    undetermined_dams = []\n",
    "    for dam_number, volume in enumerate(dam_volume_list, 1):\n",
    "        if volume >= dam_threshold_crack:\n",
    "            cracked_dams.append(dam_number)\n",
    "        elif volume > dam_threshold_no_crack:\n",
    "            undetermined_dams.append(dam_number)\n",
    "    \n",
    "    if (not cracked_dams and not undetermined_dams):\n",
    "        return None\n",
    "    elif not undetermined_dams:\n",
    "        return cracked_dams\n",
    "    else:\n",
    "        return cracked_dams, undetermined_dams\n",
    "\n",
    "dam_threshold_no_crack = max(uncracked_dam_volumes.values())\n",
    "dam_threshold_crack = min(reduce(lambda x, y: x + y, volume_in_cracked_dams.values()))\n",
    "    \n",
    "dam_predictions = pd.DataFrame(dam_volume).apply(lambda row: predict_crack(row, dam_threshold_no_crack, dam_threshold_crack), axis=1)\n",
    "print(pd.Series(dam_predictions)[1:31].values == df_log['dams_cracked'].values).all() \n",
    "# check if all dam cracking predictions match the ground truth"
   ]
  },
  {
   "cell_type": "markdown",
   "metadata": {},
   "source": [
    "### Discussion\n",
    "If None, then no dams are broken.  \n",
    "Else, there can be 1 or 2 lists. The first list is known cracked dams. If the second list exists, it would be dams that are not known whether to be cracked or not since they are below the minimum\n",
    "cracked dam volume but also above the highest known uncracked dam volume. "
   ]
  },
  {
   "cell_type": "code",
   "execution_count": 7,
   "metadata": {
    "collapsed": false
   },
   "outputs": [
    {
     "data": {
      "text/plain": [
       "0                 None\n",
       "1                 None\n",
       "2                 None\n",
       "3                 None\n",
       "4                 None\n",
       "5                 None\n",
       "6                 None\n",
       "7                 None\n",
       "8                 None\n",
       "9                 None\n",
       "10                None\n",
       "11                 [9]\n",
       "12                 [9]\n",
       "13                 [9]\n",
       "14                 [9]\n",
       "15                 [9]\n",
       "16                 [9]\n",
       "17                 [9]\n",
       "18                 [9]\n",
       "19                 [4]\n",
       "20              [4, 8]\n",
       "21           [4, 8, 9]\n",
       "22           [4, 8, 9]\n",
       "23           [4, 8, 9]\n",
       "24           [4, 8, 9]\n",
       "25              [4, 8]\n",
       "26              [4, 8]\n",
       "27              [4, 8]\n",
       "28                 [8]\n",
       "29                 [8]\n",
       "            ...       \n",
       "66    ([1, 4, 8], [6])\n",
       "67       ([1, 8], [6])\n",
       "68       ([1, 8], [6])\n",
       "69       ([1, 8], [6])\n",
       "70       ([1, 8], [6])\n",
       "71       ([1, 8], [6])\n",
       "72       ([1, 8], [6])\n",
       "73       ([1, 8], [6])\n",
       "74              [1, 8]\n",
       "75              [1, 8]\n",
       "76              [1, 8]\n",
       "77              [1, 8]\n",
       "78       ([1, 8], [6])\n",
       "79    ([1, 4, 8], [6])\n",
       "80           [1, 4, 8]\n",
       "81       ([4, 8], [1])\n",
       "82          ([8], [1])\n",
       "83                 [8]\n",
       "84                 [8]\n",
       "85                 [8]\n",
       "86                 [8]\n",
       "87                 [8]\n",
       "88                 [8]\n",
       "89                 [8]\n",
       "90                 [8]\n",
       "91                 [8]\n",
       "92                 [8]\n",
       "93                 [8]\n",
       "94             [8, 10]\n",
       "95             [8, 10]\n",
       "Length: 96, dtype: object"
      ]
     },
     "execution_count": 7,
     "metadata": {},
     "output_type": "execute_result"
    }
   ],
   "source": [
    "dam_predictions"
   ]
  },
  {
   "cell_type": "code",
   "execution_count": null,
   "metadata": {
    "collapsed": true
   },
   "outputs": [],
   "source": []
  },
  {
   "cell_type": "markdown",
   "metadata": {},
   "source": [
    "# Deprecated"
   ]
  },
  {
   "cell_type": "code",
   "execution_count": 4,
   "metadata": {
    "collapsed": false
   },
   "outputs": [
    {
     "data": {
      "text/plain": [
       "array([[4247,    3],\n",
       "       [ 742,    8]])"
      ]
     },
     "execution_count": 4,
     "metadata": {},
     "output_type": "execute_result"
    }
   ],
   "source": [
    "from sklearn import naive_bayes\n",
    "\n",
    "clf = naive_bayes.BernoulliNB()\n",
    "clf.fit(X, y)\n",
    "\n",
    "predictions = clf.predict(X)\n",
    "confusion_matrix(y, clf.predict(X))"
   ]
  },
  {
   "cell_type": "code",
   "execution_count": 6,
   "metadata": {
    "collapsed": false,
    "scrolled": true
   },
   "outputs": [
    {
     "name": "stdout",
     "output_type": "stream",
     "text": [
      "[[4248    2]\n",
      " [ 745    5]]\n"
     ]
    }
   ],
   "source": [
    "from sklearn.linear_model import LogisticRegression\n",
    "\n",
    "clf = LogisticRegression()\n",
    "clf.fit(X, y)\n",
    "\n",
    "predictions = clf.predict(X)\n",
    "print(confusion_matrix(y, predictions))"
   ]
  }
 ],
 "metadata": {
  "kernelspec": {
   "display_name": "Python 2",
   "language": "python",
   "name": "python2"
  },
  "language_info": {
   "codemirror_mode": {
    "name": "ipython",
    "version": 2
   },
   "file_extension": ".py",
   "mimetype": "text/x-python",
   "name": "python",
   "nbconvert_exporter": "python",
   "pygments_lexer": "ipython2",
   "version": "2.7.11"
  }
 },
 "nbformat": 4,
 "nbformat_minor": 0
}
