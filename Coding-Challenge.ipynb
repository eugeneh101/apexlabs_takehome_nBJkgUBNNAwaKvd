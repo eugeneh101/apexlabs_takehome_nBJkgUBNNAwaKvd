{
 "cells": [
  {
   "cell_type": "markdown",
   "metadata": {},
   "source": [
    "# Q1"
   ]
  },
  {
   "cell_type": "code",
   "execution_count": 1,
   "metadata": {
    "collapsed": false
   },
   "outputs": [
    {
     "data": {
      "text/html": [
       "<div>\n",
       "<style>\n",
       "    .dataframe thead tr:only-child th {\n",
       "        text-align: right;\n",
       "    }\n",
       "\n",
       "    .dataframe thead th {\n",
       "        text-align: left;\n",
       "    }\n",
       "\n",
       "    .dataframe tbody tr th {\n",
       "        vertical-align: top;\n",
       "    }\n",
       "</style>\n",
       "<table border=\"1\" class=\"dataframe\">\n",
       "  <thead>\n",
       "    <tr style=\"text-align: right;\">\n",
       "      <th></th>\n",
       "      <th>user_id</th>\n",
       "      <th>ad_id</th>\n",
       "      <th>clicked_on_ad</th>\n",
       "    </tr>\n",
       "  </thead>\n",
       "  <tbody>\n",
       "    <tr>\n",
       "      <th>0</th>\n",
       "      <td>20</td>\n",
       "      <td>308</td>\n",
       "      <td>0</td>\n",
       "    </tr>\n",
       "    <tr>\n",
       "      <th>1</th>\n",
       "      <td>35</td>\n",
       "      <td>270</td>\n",
       "      <td>0</td>\n",
       "    </tr>\n",
       "    <tr>\n",
       "      <th>2</th>\n",
       "      <td>36</td>\n",
       "      <td>168</td>\n",
       "      <td>0</td>\n",
       "    </tr>\n",
       "    <tr>\n",
       "      <th>3</th>\n",
       "      <td>21</td>\n",
       "      <td>479</td>\n",
       "      <td>0</td>\n",
       "    </tr>\n",
       "    <tr>\n",
       "      <th>4</th>\n",
       "      <td>86</td>\n",
       "      <td>321</td>\n",
       "      <td>0</td>\n",
       "    </tr>\n",
       "  </tbody>\n",
       "</table>\n",
       "</div>"
      ],
      "text/plain": [
       "   user_id  ad_id  clicked_on_ad\n",
       "0       20    308              0\n",
       "1       35    270              0\n",
       "2       36    168              0\n",
       "3       21    479              0\n",
       "4       86    321              0"
      ]
     },
     "execution_count": 1,
     "metadata": {},
     "output_type": "execute_result"
    }
   ],
   "source": [
    "import pandas as pd\n",
    "\n",
    "df = pd.read_csv('q1/click_event_log.csv')\n",
    "df.head()"
   ]
  },
  {
   "cell_type": "code",
   "execution_count": 3,
   "metadata": {
    "collapsed": false
   },
   "outputs": [
    {
     "name": "stderr",
     "output_type": "stream",
     "text": [
      "/home/ubuntu/anaconda2/lib/python2.7/site-packages/ipykernel/__main__.py:9: FutureWarning: reshape is deprecated and will raise in a subsequent release. Please use .values.reshape(...) instead\n",
      "/home/ubuntu/anaconda2/lib/python2.7/site-packages/ipykernel/__main__.py:10: FutureWarning: reshape is deprecated and will raise in a subsequent release. Please use .values.reshape(...) instead\n"
     ]
    }
   ],
   "source": [
    "from sklearn.preprocessing import OneHotEncoder\n",
    "from scipy.sparse import hstack\n",
    "from sklearn.metrics import confusion_matrix\n",
    "from sklearn.model_selection import train_test_split\n",
    "\n",
    "\n",
    "ohe_user = OneHotEncoder()\n",
    "ohe_ad = OneHotEncoder()\n",
    "user_features = ohe_user.fit_transform(df['user_id'].reshape((-1, 1)))\n",
    "ad_features = ohe_ad.fit_transform(df['ad_id'].reshape((-1, 1)))\n",
    "X = hstack([user_features, ad_features]).todense()\n",
    "\n",
    "y = df['clicked_on_ad'].values\n",
    "\n",
    "X_train, X_test, y_train, y_test = train_test_split(X, y, test_size=0.2, random_state=42)"
   ]
  },
  {
   "cell_type": "code",
   "execution_count": null,
   "metadata": {
    "collapsed": true
   },
   "outputs": [],
   "source": []
  },
  {
   "cell_type": "code",
   "execution_count": 5,
   "metadata": {
    "collapsed": false,
    "scrolled": true
   },
   "outputs": [
    {
     "name": "stdout",
     "output_type": "stream",
     "text": [
      "OOB score: 0.83175\n",
      "[[844  10]\n",
      " [146   0]]\n"
     ]
    }
   ],
   "source": [
    "from sklearn.ensemble import RandomForestClassifier\n",
    "\n",
    "clf = RandomForestClassifier(n_estimators=100, oob_score=True)\n",
    "clf.fit(X_train, y_train)\n",
    "print(\"OOB score: {}\".format(clf.oob_score_))\n",
    "\n",
    "predictions = clf.predict(X_test)\n",
    "print(confusion_matrix(y_test, predictions))"
   ]
  },
  {
   "cell_type": "markdown",
   "metadata": {},
   "source": [
    "a. Given a user_id and an ad_id, create a model that will predict the probability that the user will click on the ad. List any assumptions you make about the data when you create this model. What does this model output for user_id 12 and ad_id 10? What about user_id 50 and ad_id 177? Finally, what about user_id 13 and ad_id 241?"
   ]
  },
  {
   "cell_type": "code",
   "execution_count": 30,
   "metadata": {
    "collapsed": false
   },
   "outputs": [
    {
     "data": {
      "text/plain": [
       "array([0, 0, 0], dtype=int64)"
      ]
     },
     "execution_count": 30,
     "metadata": {},
     "output_type": "execute_result"
    }
   ],
   "source": [
    "import numpy as np\n",
    "\n",
    "users = np.array([12, 50, 13]).reshape((-1, 1)) - 1\n",
    "ads = np.array([10, 177, 241]).reshape((-1, 1)) - 1\n",
    "\n",
    "user_features = ohe_user.transform(users)\n",
    "ad_features = ohe_ad.transform(ads)\n",
    "features = hstack([user_features, ad_features]).todense()\n",
    "\n",
    "clf.predict(features)"
   ]
  },
  {
   "cell_type": "code",
   "execution_count": null,
   "metadata": {
    "collapsed": true
   },
   "outputs": [],
   "source": []
  },
  {
   "cell_type": "code",
   "execution_count": null,
   "metadata": {
    "collapsed": true
   },
   "outputs": [],
   "source": []
  },
  {
   "cell_type": "markdown",
   "metadata": {},
   "source": [
    "# Q2"
   ]
  },
  {
   "cell_type": "code",
   "execution_count": 1,
   "metadata": {
    "collapsed": false,
    "scrolled": true
   },
   "outputs": [
    {
     "data": {
      "text/html": [
       "<div>\n",
       "<style>\n",
       "    .dataframe thead tr:only-child th {\n",
       "        text-align: right;\n",
       "    }\n",
       "\n",
       "    .dataframe thead th {\n",
       "        text-align: left;\n",
       "    }\n",
       "\n",
       "    .dataframe tbody tr th {\n",
       "        vertical-align: top;\n",
       "    }\n",
       "</style>\n",
       "<table border=\"1\" class=\"dataframe\">\n",
       "  <thead>\n",
       "    <tr style=\"text-align: right;\">\n",
       "      <th></th>\n",
       "      <th>log_azimuth</th>\n",
       "      <th>log_altitiude</th>\n",
       "      <th>lens_size</th>\n",
       "      <th>months_in_operation</th>\n",
       "      <th>observed_image_output</th>\n",
       "    </tr>\n",
       "  </thead>\n",
       "  <tbody>\n",
       "    <tr>\n",
       "      <th>0</th>\n",
       "      <td>2.351222</td>\n",
       "      <td>2.996789</td>\n",
       "      <td>8.041122</td>\n",
       "      <td>1</td>\n",
       "      <td>0</td>\n",
       "    </tr>\n",
       "    <tr>\n",
       "      <th>1</th>\n",
       "      <td>2.379440</td>\n",
       "      <td>3.050773</td>\n",
       "      <td>5.448220</td>\n",
       "      <td>3</td>\n",
       "      <td>0</td>\n",
       "    </tr>\n",
       "    <tr>\n",
       "      <th>2</th>\n",
       "      <td>2.441207</td>\n",
       "      <td>3.071607</td>\n",
       "      <td>2.134721</td>\n",
       "      <td>3</td>\n",
       "      <td>0</td>\n",
       "    </tr>\n",
       "    <tr>\n",
       "      <th>3</th>\n",
       "      <td>2.454324</td>\n",
       "      <td>3.127072</td>\n",
       "      <td>7.271947</td>\n",
       "      <td>1</td>\n",
       "      <td>0</td>\n",
       "    </tr>\n",
       "    <tr>\n",
       "      <th>4</th>\n",
       "      <td>2.465330</td>\n",
       "      <td>3.162127</td>\n",
       "      <td>6.854447</td>\n",
       "      <td>0</td>\n",
       "      <td>0</td>\n",
       "    </tr>\n",
       "  </tbody>\n",
       "</table>\n",
       "</div>"
      ],
      "text/plain": [
       "   log_azimuth  log_altitiude  lens_size  months_in_operation  \\\n",
       "0     2.351222       2.996789   8.041122                    1   \n",
       "1     2.379440       3.050773   5.448220                    3   \n",
       "2     2.441207       3.071607   2.134721                    3   \n",
       "3     2.454324       3.127072   7.271947                    1   \n",
       "4     2.465330       3.162127   6.854447                    0   \n",
       "\n",
       "   observed_image_output  \n",
       "0                      0  \n",
       "1                      0  \n",
       "2                      0  \n",
       "3                      0  \n",
       "4                      0  "
      ]
     },
     "execution_count": 1,
     "metadata": {},
     "output_type": "execute_result"
    }
   ],
   "source": [
    "import matplotlib.pyplot as plt\n",
    "%matplotlib inline\n",
    "import pandas as pd\n",
    "\n",
    "df = pd.read_csv('q2/satelite_20.csv')\n",
    "df.head()"
   ]
  },
  {
   "cell_type": "code",
   "execution_count": 2,
   "metadata": {
    "collapsed": false
   },
   "outputs": [
    {
     "name": "stdout",
     "output_type": "stream",
     "text": [
      "0\n",
      "1\n",
      "2\n"
     ]
    },
    {
     "data": {
      "image/png": "[encoded data removed]",
      "text/plain": [
       "<matplotlib.figure.Figure at 0x7f00d526be10>"
      ]
     },
     "metadata": {},
     "output_type": "display_data"
    }
   ],
   "source": [
    "color_dict = {0: 'red', 1: 'orange', 2: 'yellow', 3: 'green', 4: 'blue'}\n",
    "\n",
    "for grp in df.groupby('observed_image_output'):\n",
    "    print grp[0]\n",
    "    df_temp = grp[1]\n",
    "    plt.scatter(df_temp['log_azimuth'], df_temp['log_altitiude'], \n",
    "                c=[color_dict[element] for element in df_temp['months_in_operation']],\n",
    "               s=(df_temp['lens_size']) * 10)\n",
    "    plt.plot(df_temp['log_azimuth'], df_temp['log_altitiude'])"
   ]
  },
  {
   "cell_type": "code",
   "execution_count": 3,
   "metadata": {
    "collapsed": false
   },
   "outputs": [
    {
     "name": "stdout",
     "output_type": "stream",
     "text": [
      "[[ 7  0  0]\n",
      " [ 0 13  1]\n",
      " [ 0  0 10]]\n"
     ]
    }
   ],
   "source": [
    "from sklearn import preprocessing\n",
    "from sklearn.model_selection import train_test_split\n",
    "from sklearn import neighbors\n",
    "from sklearn.metrics import confusion_matrix\n",
    "\n",
    "rescaler = preprocessing.Normalizer()\n",
    "X = rescaler.fit_transform(df[['log_azimuth', 'log_altitiude']])\n",
    "y = df['observed_image_output']\n",
    "X_train, X_test, y_train, y_test = train_test_split(X, y, test_size=0.2)\n",
    "\n",
    "\n",
    "n_neighbors = 5\n",
    "clf = neighbors.KNeighborsClassifier(n_neighbors)\n",
    "clf.fit(X_train, y_train)\n",
    "\n",
    "predictions = clf.predict(X_test)\n",
    "print(confusion_matrix(y_test, predictions)) "
   ]
  },
  {
   "cell_type": "code",
   "execution_count": 5,
   "metadata": {
    "collapsed": false
   },
   "outputs": [
    {
     "name": "stdout",
     "output_type": "stream",
     "text": [
      "[0 0 0 0 2 2 1 1 2 2 2 2]\n"
     ]
    }
   ],
   "source": [
    "df_test = pd.read_csv('q2/satelite_20_test.csv')\n",
    "print(clf.predict(df_test[['log_azimuth', 'log_altitiude']])) # yay! correct predictions\n",
    "\n",
    "# Took me many tries. I used XGBoost and Random Forest (with Out-of-Bag-Error) with cross\n",
    "# validation and grid search. I wish I had more time so that I would be comfortable working out \n",
    "# the Explatory Data Analysis with plots.\n",
    "\n",
    "# From inspection of the plot, I determined that log_azimuth and log_altitiude are the main features.\n",
    "# I do not know lens_size and months_in_operation. My only concern is that I performed manual feature\n",
    "# selection/importance; but I assume these features are important because the satellite travels in a \n",
    "# mechanical way with minimal deviance from its path.\n",
    "\n",
    "# With different train_test_split, I've run the K-Nearest Neighbors (KNN) model multiple times and most\n",
    "# predictions for the validation set are correct. The errors are when it cannot determine whether\n",
    "# the picture was from group 1 or 2 since the satellite moves in similar trajectories for those.\n",
    "# Ideally, I wanted to create a classifier that checks distance from each image_output's satellite trajectory.\n",
    "# I settled with KNN because it appears to work well and I'm low on time."
   ]
  },
  {
   "cell_type": "code",
   "execution_count": null,
   "metadata": {
    "collapsed": true
   },
   "outputs": [],
   "source": []
  },
  {
   "cell_type": "code",
   "execution_count": 78,
   "metadata": {
    "collapsed": false
   },
   "outputs": [
    {
     "data": {
      "text/plain": [
       "[<matplotlib.lines.Line2D at 0x7fc0fe7a6c50>]"
      ]
     },
     "execution_count": 78,
     "metadata": {},
     "output_type": "execute_result"
    },
    {
     "data": {
      "image/png": "[encoded data removed]",
      "text/plain": [
       "<matplotlib.figure.Figure at 0x7fc0fe865d10>"
      ]
     },
     "metadata": {},
     "output_type": "display_data"
    }
   ],
   "source": [
    "plt.scatter(df['log_azimuth'], df['log_altitiude'], \n",
    "            c=[color_dict[element] for element in grp['observed_image_output']],\n",
    "           s=(df['observed_image_output'] + 1) * 50)\n",
    "plt.plot(df['log_azimuth'], df['log_altitiude'])"
   ]
  },
  {
   "cell_type": "code",
   "execution_count": 72,
   "metadata": {
    "collapsed": false
   },
   "outputs": [
    {
     "name": "stdout",
     "output_type": "stream",
     "text": [
      "0\n"
     ]
    },
    {
     "data": {
      "image/png": "[encoded data removed]",
      "text/plain": [
       "<matplotlib.figure.Figure at 0x7fc0fed71c90>"
      ]
     },
     "metadata": {},
     "output_type": "display_data"
    },
    {
     "name": "stdout",
     "output_type": "stream",
     "text": [
      "1\n"
     ]
    },
    {
     "data": {
      "image/png": "[encoded data removed]",
      "text/plain": [
       "<matplotlib.figure.Figure at 0x7fc0fe4ebd10>"
      ]
     },
     "metadata": {},
     "output_type": "display_data"
    },
    {
     "name": "stdout",
     "output_type": "stream",
     "text": [
      "2\n"
     ]
    },
    {
     "data": {
      "image/png": "[encoded data removed]",
      "text/plain": [
       "<matplotlib.figure.Figure at 0x7fc0fe4eb9d0>"
      ]
     },
     "metadata": {},
     "output_type": "display_data"
    },
    {
     "name": "stdout",
     "output_type": "stream",
     "text": [
      "3\n"
     ]
    },
    {
     "data": {
      "image/png": "[encoded data removed]",
      "text/plain": [
       "<matplotlib.figure.Figure at 0x7fc0fe893550>"
      ]
     },
     "metadata": {},
     "output_type": "display_data"
    },
    {
     "name": "stdout",
     "output_type": "stream",
     "text": [
      "4\n"
     ]
    },
    {
     "data": {
      "image/png": "[encoded data removed]",
      "text/plain": [
       "<matplotlib.figure.Figure at 0x7fc0fe53bed0>"
      ]
     },
     "metadata": {},
     "output_type": "display_data"
    }
   ],
   "source": [
    "\n",
    "for grp in df.groupby('months_in_operation'):\n",
    "    print grp[0]\n",
    "    grp = grp[1].sort_values('months_in_operation')\n",
    "    plt.scatter(grp['log_azimuth'], grp['log_altitiude'], c=[color_dict[element] for element in grp['observed_image_output']])\n",
    "#                ,s=(grp['observed_image_output'] + 1) * 30)\n",
    "    plt.plot(grp['log_azimuth'], grp['log_altitiude'])\n",
    "    plt.show()\n",
    "#    print grp\n",
    "#    df_temp = df.sort_values('months_in_operation')\n",
    "#    df_temp = df_temp[df_temp['months_in_operation'] == month]\n",
    "#    plt.scatter(df_temp['log_azimuth'], df_temp['log_altitiude'], s=30 * df_temp['observed_image_output'])\n",
    "#    plt.show()\n",
    "    pass"
   ]
  },
  {
   "cell_type": "code",
   "execution_count": 66,
   "metadata": {
    "collapsed": false
   },
   "outputs": [
    {
     "data": {
      "text/plain": [
       "{0, 1, 2, 3, 4}"
      ]
     },
     "execution_count": 66,
     "metadata": {},
     "output_type": "execute_result"
    }
   ],
   "source": [
    "set(df['months_in_operation'])"
   ]
  },
  {
   "cell_type": "code",
   "execution_count": 65,
   "metadata": {
    "collapsed": false
   },
   "outputs": [
    {
     "data": {
      "text/html": [
       "<div>\n",
       "<style>\n",
       "    .dataframe thead tr:only-child th {\n",
       "        text-align: right;\n",
       "    }\n",
       "\n",
       "    .dataframe thead th {\n",
       "        text-align: left;\n",
       "    }\n",
       "\n",
       "    .dataframe tbody tr th {\n",
       "        vertical-align: top;\n",
       "    }\n",
       "</style>\n",
       "<table border=\"1\" class=\"dataframe\">\n",
       "  <thead>\n",
       "    <tr style=\"text-align: right;\">\n",
       "      <th></th>\n",
       "      <th>log_azimuth</th>\n",
       "      <th>log_altitiude</th>\n",
       "      <th>lens_size</th>\n",
       "      <th>months_in_operation</th>\n",
       "      <th>observed_image_output</th>\n",
       "    </tr>\n",
       "  </thead>\n",
       "  <tbody>\n",
       "    <tr>\n",
       "      <th>124</th>\n",
       "      <td>3.627921</td>\n",
       "      <td>4.130594</td>\n",
       "      <td>2.421349</td>\n",
       "      <td>0</td>\n",
       "      <td>2</td>\n",
       "    </tr>\n",
       "    <tr>\n",
       "      <th>120</th>\n",
       "      <td>3.584759</td>\n",
       "      <td>4.052789</td>\n",
       "      <td>0.736954</td>\n",
       "      <td>0</td>\n",
       "      <td>2</td>\n",
       "    </tr>\n",
       "    <tr>\n",
       "      <th>106</th>\n",
       "      <td>3.354815</td>\n",
       "      <td>3.779958</td>\n",
       "      <td>3.406678</td>\n",
       "      <td>0</td>\n",
       "      <td>2</td>\n",
       "    </tr>\n",
       "    <tr>\n",
       "      <th>119</th>\n",
       "      <td>3.563424</td>\n",
       "      <td>4.038557</td>\n",
       "      <td>0.659849</td>\n",
       "      <td>0</td>\n",
       "      <td>2</td>\n",
       "    </tr>\n",
       "    <tr>\n",
       "      <th>126</th>\n",
       "      <td>3.661774</td>\n",
       "      <td>4.151144</td>\n",
       "      <td>9.537248</td>\n",
       "      <td>0</td>\n",
       "      <td>2</td>\n",
       "    </tr>\n",
       "    <tr>\n",
       "      <th>129</th>\n",
       "      <td>3.691860</td>\n",
       "      <td>4.208186</td>\n",
       "      <td>5.233359</td>\n",
       "      <td>0</td>\n",
       "      <td>2</td>\n",
       "    </tr>\n",
       "    <tr>\n",
       "      <th>141</th>\n",
       "      <td>3.833154</td>\n",
       "      <td>4.363621</td>\n",
       "      <td>1.364063</td>\n",
       "      <td>0</td>\n",
       "      <td>2</td>\n",
       "    </tr>\n",
       "    <tr>\n",
       "      <th>122</th>\n",
       "      <td>3.599104</td>\n",
       "      <td>4.088924</td>\n",
       "      <td>9.270352</td>\n",
       "      <td>1</td>\n",
       "      <td>2</td>\n",
       "    </tr>\n",
       "    <tr>\n",
       "      <th>121</th>\n",
       "      <td>3.604083</td>\n",
       "      <td>4.082835</td>\n",
       "      <td>6.331309</td>\n",
       "      <td>1</td>\n",
       "      <td>2</td>\n",
       "    </tr>\n",
       "    <tr>\n",
       "      <th>115</th>\n",
       "      <td>3.507557</td>\n",
       "      <td>3.977331</td>\n",
       "      <td>4.851884</td>\n",
       "      <td>1</td>\n",
       "      <td>2</td>\n",
       "    </tr>\n",
       "    <tr>\n",
       "      <th>144</th>\n",
       "      <td>3.864710</td>\n",
       "      <td>4.405916</td>\n",
       "      <td>6.398127</td>\n",
       "      <td>1</td>\n",
       "      <td>2</td>\n",
       "    </tr>\n",
       "    <tr>\n",
       "      <th>109</th>\n",
       "      <td>3.407716</td>\n",
       "      <td>3.859923</td>\n",
       "      <td>9.754897</td>\n",
       "      <td>1</td>\n",
       "      <td>2</td>\n",
       "    </tr>\n",
       "    <tr>\n",
       "      <th>107</th>\n",
       "      <td>3.396568</td>\n",
       "      <td>3.809184</td>\n",
       "      <td>5.508345</td>\n",
       "      <td>1</td>\n",
       "      <td>2</td>\n",
       "    </tr>\n",
       "    <tr>\n",
       "      <th>105</th>\n",
       "      <td>3.354426</td>\n",
       "      <td>3.750845</td>\n",
       "      <td>4.148168</td>\n",
       "      <td>1</td>\n",
       "      <td>2</td>\n",
       "    </tr>\n",
       "    <tr>\n",
       "      <th>150</th>\n",
       "      <td>3.927985</td>\n",
       "      <td>4.482848</td>\n",
       "      <td>9.995425</td>\n",
       "      <td>1</td>\n",
       "      <td>2</td>\n",
       "    </tr>\n",
       "    <tr>\n",
       "      <th>103</th>\n",
       "      <td>3.306619</td>\n",
       "      <td>3.701431</td>\n",
       "      <td>6.858626</td>\n",
       "      <td>1</td>\n",
       "      <td>2</td>\n",
       "    </tr>\n",
       "    <tr>\n",
       "      <th>131</th>\n",
       "      <td>3.714777</td>\n",
       "      <td>4.238195</td>\n",
       "      <td>7.150807</td>\n",
       "      <td>2</td>\n",
       "      <td>2</td>\n",
       "    </tr>\n",
       "    <tr>\n",
       "      <th>132</th>\n",
       "      <td>3.739580</td>\n",
       "      <td>4.251790</td>\n",
       "      <td>9.939295</td>\n",
       "      <td>2</td>\n",
       "      <td>2</td>\n",
       "    </tr>\n",
       "    <tr>\n",
       "      <th>151</th>\n",
       "      <td>3.937530</td>\n",
       "      <td>4.490911</td>\n",
       "      <td>5.414460</td>\n",
       "      <td>2</td>\n",
       "      <td>2</td>\n",
       "    </tr>\n",
       "    <tr>\n",
       "      <th>137</th>\n",
       "      <td>3.787431</td>\n",
       "      <td>4.312909</td>\n",
       "      <td>0.786286</td>\n",
       "      <td>2</td>\n",
       "      <td>2</td>\n",
       "    </tr>\n",
       "    <tr>\n",
       "      <th>139</th>\n",
       "      <td>3.819931</td>\n",
       "      <td>4.338031</td>\n",
       "      <td>2.430176</td>\n",
       "      <td>2</td>\n",
       "      <td>2</td>\n",
       "    </tr>\n",
       "    <tr>\n",
       "      <th>130</th>\n",
       "      <td>3.719211</td>\n",
       "      <td>4.212163</td>\n",
       "      <td>2.030346</td>\n",
       "      <td>2</td>\n",
       "      <td>2</td>\n",
       "    </tr>\n",
       "    <tr>\n",
       "      <th>152</th>\n",
       "      <td>3.952063</td>\n",
       "      <td>4.503533</td>\n",
       "      <td>9.891724</td>\n",
       "      <td>2</td>\n",
       "      <td>2</td>\n",
       "    </tr>\n",
       "    <tr>\n",
       "      <th>142</th>\n",
       "      <td>3.844792</td>\n",
       "      <td>4.378636</td>\n",
       "      <td>9.838719</td>\n",
       "      <td>2</td>\n",
       "      <td>2</td>\n",
       "    </tr>\n",
       "    <tr>\n",
       "      <th>117</th>\n",
       "      <td>3.548978</td>\n",
       "      <td>4.012687</td>\n",
       "      <td>7.318941</td>\n",
       "      <td>2</td>\n",
       "      <td>2</td>\n",
       "    </tr>\n",
       "    <tr>\n",
       "      <th>116</th>\n",
       "      <td>3.525636</td>\n",
       "      <td>3.990611</td>\n",
       "      <td>2.211999</td>\n",
       "      <td>2</td>\n",
       "      <td>2</td>\n",
       "    </tr>\n",
       "    <tr>\n",
       "      <th>146</th>\n",
       "      <td>3.897092</td>\n",
       "      <td>4.428362</td>\n",
       "      <td>0.767806</td>\n",
       "      <td>2</td>\n",
       "      <td>2</td>\n",
       "    </tr>\n",
       "    <tr>\n",
       "      <th>149</th>\n",
       "      <td>3.920445</td>\n",
       "      <td>4.461797</td>\n",
       "      <td>6.913381</td>\n",
       "      <td>2</td>\n",
       "      <td>2</td>\n",
       "    </tr>\n",
       "    <tr>\n",
       "      <th>108</th>\n",
       "      <td>3.399180</td>\n",
       "      <td>3.818948</td>\n",
       "      <td>6.323008</td>\n",
       "      <td>2</td>\n",
       "      <td>2</td>\n",
       "    </tr>\n",
       "    <tr>\n",
       "      <th>135</th>\n",
       "      <td>3.778472</td>\n",
       "      <td>4.284981</td>\n",
       "      <td>4.139531</td>\n",
       "      <td>2</td>\n",
       "      <td>2</td>\n",
       "    </tr>\n",
       "    <tr>\n",
       "      <th>138</th>\n",
       "      <td>3.814056</td>\n",
       "      <td>4.328820</td>\n",
       "      <td>7.180837</td>\n",
       "      <td>3</td>\n",
       "      <td>2</td>\n",
       "    </tr>\n",
       "    <tr>\n",
       "      <th>143</th>\n",
       "      <td>3.859934</td>\n",
       "      <td>4.398606</td>\n",
       "      <td>1.586044</td>\n",
       "      <td>3</td>\n",
       "      <td>2</td>\n",
       "    </tr>\n",
       "    <tr>\n",
       "      <th>145</th>\n",
       "      <td>3.881672</td>\n",
       "      <td>4.421621</td>\n",
       "      <td>0.200439</td>\n",
       "      <td>3</td>\n",
       "      <td>2</td>\n",
       "    </tr>\n",
       "    <tr>\n",
       "      <th>136</th>\n",
       "      <td>3.784829</td>\n",
       "      <td>4.301404</td>\n",
       "      <td>3.079423</td>\n",
       "      <td>3</td>\n",
       "      <td>2</td>\n",
       "    </tr>\n",
       "    <tr>\n",
       "      <th>127</th>\n",
       "      <td>3.686026</td>\n",
       "      <td>4.179366</td>\n",
       "      <td>6.516530</td>\n",
       "      <td>3</td>\n",
       "      <td>2</td>\n",
       "    </tr>\n",
       "    <tr>\n",
       "      <th>128</th>\n",
       "      <td>3.677077</td>\n",
       "      <td>4.182173</td>\n",
       "      <td>3.444112</td>\n",
       "      <td>3</td>\n",
       "      <td>2</td>\n",
       "    </tr>\n",
       "    <tr>\n",
       "      <th>123</th>\n",
       "      <td>3.620784</td>\n",
       "      <td>4.111150</td>\n",
       "      <td>9.628655</td>\n",
       "      <td>3</td>\n",
       "      <td>2</td>\n",
       "    </tr>\n",
       "    <tr>\n",
       "      <th>113</th>\n",
       "      <td>3.468505</td>\n",
       "      <td>3.935977</td>\n",
       "      <td>7.909692</td>\n",
       "      <td>3</td>\n",
       "      <td>2</td>\n",
       "    </tr>\n",
       "    <tr>\n",
       "      <th>112</th>\n",
       "      <td>3.459227</td>\n",
       "      <td>3.907750</td>\n",
       "      <td>7.900677</td>\n",
       "      <td>3</td>\n",
       "      <td>2</td>\n",
       "    </tr>\n",
       "    <tr>\n",
       "      <th>110</th>\n",
       "      <td>3.438059</td>\n",
       "      <td>3.873154</td>\n",
       "      <td>9.449273</td>\n",
       "      <td>3</td>\n",
       "      <td>2</td>\n",
       "    </tr>\n",
       "    <tr>\n",
       "      <th>104</th>\n",
       "      <td>3.328515</td>\n",
       "      <td>3.739093</td>\n",
       "      <td>0.690525</td>\n",
       "      <td>3</td>\n",
       "      <td>2</td>\n",
       "    </tr>\n",
       "    <tr>\n",
       "      <th>133</th>\n",
       "      <td>3.748583</td>\n",
       "      <td>4.257290</td>\n",
       "      <td>0.020716</td>\n",
       "      <td>4</td>\n",
       "      <td>2</td>\n",
       "    </tr>\n",
       "    <tr>\n",
       "      <th>125</th>\n",
       "      <td>3.653846</td>\n",
       "      <td>4.138822</td>\n",
       "      <td>7.921305</td>\n",
       "      <td>4</td>\n",
       "      <td>2</td>\n",
       "    </tr>\n",
       "    <tr>\n",
       "      <th>140</th>\n",
       "      <td>3.822590</td>\n",
       "      <td>4.358517</td>\n",
       "      <td>6.295532</td>\n",
       "      <td>4</td>\n",
       "      <td>2</td>\n",
       "    </tr>\n",
       "    <tr>\n",
       "      <th>118</th>\n",
       "      <td>3.563845</td>\n",
       "      <td>4.019024</td>\n",
       "      <td>1.722954</td>\n",
       "      <td>4</td>\n",
       "      <td>2</td>\n",
       "    </tr>\n",
       "    <tr>\n",
       "      <th>114</th>\n",
       "      <td>3.490735</td>\n",
       "      <td>3.946909</td>\n",
       "      <td>8.778935</td>\n",
       "      <td>4</td>\n",
       "      <td>2</td>\n",
       "    </tr>\n",
       "    <tr>\n",
       "      <th>111</th>\n",
       "      <td>3.436658</td>\n",
       "      <td>3.890571</td>\n",
       "      <td>7.587409</td>\n",
       "      <td>4</td>\n",
       "      <td>2</td>\n",
       "    </tr>\n",
       "    <tr>\n",
       "      <th>147</th>\n",
       "      <td>3.891972</td>\n",
       "      <td>4.445791</td>\n",
       "      <td>4.398340</td>\n",
       "      <td>4</td>\n",
       "      <td>2</td>\n",
       "    </tr>\n",
       "    <tr>\n",
       "      <th>148</th>\n",
       "      <td>3.918341</td>\n",
       "      <td>4.457846</td>\n",
       "      <td>3.355480</td>\n",
       "      <td>4</td>\n",
       "      <td>2</td>\n",
       "    </tr>\n",
       "    <tr>\n",
       "      <th>134</th>\n",
       "      <td>3.760241</td>\n",
       "      <td>4.278761</td>\n",
       "      <td>8.391959</td>\n",
       "      <td>4</td>\n",
       "      <td>2</td>\n",
       "    </tr>\n",
       "    <tr>\n",
       "      <th>102</th>\n",
       "      <td>3.300773</td>\n",
       "      <td>3.693681</td>\n",
       "      <td>3.684224</td>\n",
       "      <td>4</td>\n",
       "      <td>2</td>\n",
       "    </tr>\n",
       "  </tbody>\n",
       "</table>\n",
       "</div>"
      ],
      "text/plain": [
       "     log_azimuth  log_altitiude  lens_size  months_in_operation  \\\n",
       "124     3.627921       4.130594   2.421349                    0   \n",
       "120     3.584759       4.052789   0.736954                    0   \n",
       "106     3.354815       3.779958   3.406678                    0   \n",
       "119     3.563424       4.038557   0.659849                    0   \n",
       "126     3.661774       4.151144   9.537248                    0   \n",
       "129     3.691860       4.208186   5.233359                    0   \n",
       "141     3.833154       4.363621   1.364063                    0   \n",
       "122     3.599104       4.088924   9.270352                    1   \n",
       "121     3.604083       4.082835   6.331309                    1   \n",
       "115     3.507557       3.977331   4.851884                    1   \n",
       "144     3.864710       4.405916   6.398127                    1   \n",
       "109     3.407716       3.859923   9.754897                    1   \n",
       "107     3.396568       3.809184   5.508345                    1   \n",
       "105     3.354426       3.750845   4.148168                    1   \n",
       "150     3.927985       4.482848   9.995425                    1   \n",
       "103     3.306619       3.701431   6.858626                    1   \n",
       "131     3.714777       4.238195   7.150807                    2   \n",
       "132     3.739580       4.251790   9.939295                    2   \n",
       "151     3.937530       4.490911   5.414460                    2   \n",
       "137     3.787431       4.312909   0.786286                    2   \n",
       "139     3.819931       4.338031   2.430176                    2   \n",
       "130     3.719211       4.212163   2.030346                    2   \n",
       "152     3.952063       4.503533   9.891724                    2   \n",
       "142     3.844792       4.378636   9.838719                    2   \n",
       "117     3.548978       4.012687   7.318941                    2   \n",
       "116     3.525636       3.990611   2.211999                    2   \n",
       "146     3.897092       4.428362   0.767806                    2   \n",
       "149     3.920445       4.461797   6.913381                    2   \n",
       "108     3.399180       3.818948   6.323008                    2   \n",
       "135     3.778472       4.284981   4.139531                    2   \n",
       "138     3.814056       4.328820   7.180837                    3   \n",
       "143     3.859934       4.398606   1.586044                    3   \n",
       "145     3.881672       4.421621   0.200439                    3   \n",
       "136     3.784829       4.301404   3.079423                    3   \n",
       "127     3.686026       4.179366   6.516530                    3   \n",
       "128     3.677077       4.182173   3.444112                    3   \n",
       "123     3.620784       4.111150   9.628655                    3   \n",
       "113     3.468505       3.935977   7.909692                    3   \n",
       "112     3.459227       3.907750   7.900677                    3   \n",
       "110     3.438059       3.873154   9.449273                    3   \n",
       "104     3.328515       3.739093   0.690525                    3   \n",
       "133     3.748583       4.257290   0.020716                    4   \n",
       "125     3.653846       4.138822   7.921305                    4   \n",
       "140     3.822590       4.358517   6.295532                    4   \n",
       "118     3.563845       4.019024   1.722954                    4   \n",
       "114     3.490735       3.946909   8.778935                    4   \n",
       "111     3.436658       3.890571   7.587409                    4   \n",
       "147     3.891972       4.445791   4.398340                    4   \n",
       "148     3.918341       4.457846   3.355480                    4   \n",
       "134     3.760241       4.278761   8.391959                    4   \n",
       "102     3.300773       3.693681   3.684224                    4   \n",
       "\n",
       "     observed_image_output  \n",
       "124                      2  \n",
       "120                      2  \n",
       "106                      2  \n",
       "119                      2  \n",
       "126                      2  \n",
       "129                      2  \n",
       "141                      2  \n",
       "122                      2  \n",
       "121                      2  \n",
       "115                      2  \n",
       "144                      2  \n",
       "109                      2  \n",
       "107                      2  \n",
       "105                      2  \n",
       "150                      2  \n",
       "103                      2  \n",
       "131                      2  \n",
       "132                      2  \n",
       "151                      2  \n",
       "137                      2  \n",
       "139                      2  \n",
       "130                      2  \n",
       "152                      2  \n",
       "142                      2  \n",
       "117                      2  \n",
       "116                      2  \n",
       "146                      2  \n",
       "149                      2  \n",
       "108                      2  \n",
       "135                      2  \n",
       "138                      2  \n",
       "143                      2  \n",
       "145                      2  \n",
       "136                      2  \n",
       "127                      2  \n",
       "128                      2  \n",
       "123                      2  \n",
       "113                      2  \n",
       "112                      2  \n",
       "110                      2  \n",
       "104                      2  \n",
       "133                      2  \n",
       "125                      2  \n",
       "140                      2  \n",
       "118                      2  \n",
       "114                      2  \n",
       "111                      2  \n",
       "147                      2  \n",
       "148                      2  \n",
       "134                      2  \n",
       "102                      2  "
      ]
     },
     "execution_count": 65,
     "metadata": {},
     "output_type": "execute_result"
    }
   ],
   "source": [
    "temp.sort_values('months_in_operation')\n",
    "\n",
    "\n",
    "# color and marker size"
   ]
  },
  {
   "cell_type": "code",
   "execution_count": 64,
   "metadata": {
    "collapsed": false
   },
   "outputs": [],
   "source": [
    "temp = grp[1]"
   ]
  },
  {
   "cell_type": "code",
   "execution_count": 73,
   "metadata": {
    "collapsed": false
   },
   "outputs": [
    {
     "data": {
      "image/png": "[encoded data removed]",
      "text/plain": [
       "<matplotlib.figure.Figure at 0x7fc0feaaf950>"
      ]
     },
     "metadata": {},
     "output_type": "display_data"
    },
    {
     "data": {
      "image/png": "[encoded data removed]",
      "text/plain": [
       "<matplotlib.figure.Figure at 0x7fc0fe369350>"
      ]
     },
     "metadata": {},
     "output_type": "display_data"
    },
    {
     "data": {
      "image/png": "[encoded data removed]",
      "text/plain": [
       "<matplotlib.figure.Figure at 0x7fc0fe3f8410>"
      ]
     },
     "metadata": {},
     "output_type": "display_data"
    },
    {
     "data": {
      "image/png": "[encoded data removed]",
      "text/plain": [
       "<matplotlib.figure.Figure at 0x7fc0fe6bf1d0>"
      ]
     },
     "metadata": {},
     "output_type": "display_data"
    },
    {
     "data": {
      "image/png": "[encoded data removed]",
      "text/plain": [
       "<matplotlib.figure.Figure at 0x7fc0fe191610>"
      ]
     },
     "metadata": {},
     "output_type": "display_data"
    }
   ],
   "source": [
    "for month in sorted(set(df['months_in_operation'])):\n",
    "    df_temp = df.sort_values('months_in_operation')\n",
    "    df_temp = df_temp[df_temp['months_in_operation'] == month]\n",
    "    plt.scatter(df_temp['log_azimuth'], df_temp['log_altitiude'], s=30 * df_temp['observed_image_output'])\n",
    "    plt.plot(df_temp['log_azimuth'], df_temp['log_altitiude'])\n",
    "    plt.show()"
   ]
  },
  {
   "cell_type": "code",
   "execution_count": 13,
   "metadata": {
    "collapsed": false
   },
   "outputs": [
    {
     "data": {
      "text/plain": [
       "[<matplotlib.lines.Line2D at 0x7fc1044dc450>]"
      ]
     },
     "execution_count": 13,
     "metadata": {},
     "output_type": "execute_result"
    },
    {
     "data": {
      "image/png": "[encoded data removed]",
      "text/plain": [
       "<matplotlib.figure.Figure at 0x7fc105821d50>"
      ]
     },
     "metadata": {},
     "output_type": "display_data"
    }
   ],
   "source": [
    "plt.plot(df['log_azimuth'], df['log_altitiude'])"
   ]
  },
  {
   "cell_type": "code",
   "execution_count": null,
   "metadata": {
    "collapsed": true
   },
   "outputs": [],
   "source": []
  },
  {
   "cell_type": "code",
   "execution_count": null,
   "metadata": {
    "collapsed": true
   },
   "outputs": [],
   "source": []
  },
  {
   "cell_type": "code",
   "execution_count": null,
   "metadata": {
    "collapsed": true
   },
   "outputs": [],
   "source": []
  },
  {
   "cell_type": "code",
   "execution_count": 2,
   "metadata": {
    "collapsed": false
   },
   "outputs": [
    {
     "data": {
      "text/plain": [
       "Counter({0: 51, 1: 51, 2: 51})"
      ]
     },
     "execution_count": 2,
     "metadata": {},
     "output_type": "execute_result"
    }
   ],
   "source": [
    "from collections import Counter\n",
    "\n",
    "Counter(df['observed_image_output'])"
   ]
  },
  {
   "cell_type": "code",
   "execution_count": 3,
   "metadata": {
    "collapsed": true
   },
   "outputs": [],
   "source": [
    "from sklearn.model_selection import train_test_split\n",
    "\n",
    "X = df.drop('observed_image_output', axis=1).values\n",
    "y = df['observed_image_output'].values\n",
    "\n",
    "X_train, X_test, y_train, y_test = train_test_split(X, y, test_size=0.2, random_state=42)"
   ]
  },
  {
   "cell_type": "code",
   "execution_count": 4,
   "metadata": {
    "collapsed": false
   },
   "outputs": [
    {
     "name": "stdout",
     "output_type": "stream",
     "text": [
      "OOB score: 0.758169934641\n",
      "[[11  0  0]\n",
      " [ 0 12  0]\n",
      " [ 0  0  8]]\n"
     ]
    }
   ],
   "source": [
    "from sklearn.ensemble import RandomForestClassifier\n",
    "from sklearn.metrics import confusion_matrix\n",
    "\n",
    "\n",
    "\n",
    "clf = RandomForestClassifier(n_estimators=100, oob_score=True)\n",
    "clf.fit(X, y)\n",
    "print(\"OOB score: {}\".format(clf.oob_score_))\n",
    "\n",
    "predictions = clf.predict(X_test)\n",
    "print(confusion_matrix(y_test, predictions)) "
   ]
  },
  {
   "cell_type": "code",
   "execution_count": 5,
   "metadata": {
    "collapsed": false
   },
   "outputs": [],
   "source": [
    "\"\"\"\n",
    "from sklearn.ensemble import RandomForestClassifier \n",
    "from sklearn.metrics import confusion_matrix\n",
    "from sklearn.model_selection import StratifiedKFold, GridSearchCV\n",
    "\n",
    "\n",
    "clf = RandomForestClassifier(n_estimators=100, oob_score=True)\n",
    "\n",
    "clf.fit(X, y) print(\"OOB score: {}\".format(clf.oobscore))\n",
    "predictions = clf.predict(X_test) print(confusion_matrix(y_test, predictions))\n",
    "\"\"\";"
   ]
  },
  {
   "cell_type": "code",
   "execution_count": null,
   "metadata": {
    "collapsed": true
   },
   "outputs": [],
   "source": []
  },
  {
   "cell_type": "code",
   "execution_count": 5,
   "metadata": {
    "collapsed": false
   },
   "outputs": [
    {
     "name": "stdout",
     "output_type": "stream",
     "text": [
      "CPU times: user 0 ns, sys: 0 ns, total: 0 ns\n",
      "Wall time: 100 µs\n"
     ]
    }
   ],
   "source": [
    "%%time\n",
    "from sklearn.ensemble import RandomForestClassifier \n",
    "from sklearn.metrics import confusion_matrix\n",
    "from sklearn.model_selection import StratifiedKFold, GridSearchCV\n",
    "\n",
    "n_estimators=range(50, 75, 100)\n",
    "max_depth = [1, 3, 5]\n",
    "param_grid = dict(n_estimators=n_estimators, max_depth=max_depth)\n",
    "\n",
    "kfold = StratifiedKFold(n_splits=5, shuffle=True, random_state=42)\n",
    "grid_search = GridSearchCV(RandomForestClassifier(oob_score=True), param_grid, n_jobs=-1, cv=kfold)"
   ]
  },
  {
   "cell_type": "code",
   "execution_count": 13,
   "metadata": {
    "collapsed": false
   },
   "outputs": [
    {
     "name": "stdout",
     "output_type": "stream",
     "text": [
      "OOB score: 0.631147540984\n"
     ]
    }
   ],
   "source": [
    "grid_search.fit(X_train, y_train)\n",
    "print(\"OOB score: {}\".format(grid_search.best_estimator_.oob_score_))"
   ]
  },
  {
   "cell_type": "code",
   "execution_count": null,
   "metadata": {
    "collapsed": true
   },
   "outputs": [],
   "source": []
  },
  {
   "cell_type": "code",
   "execution_count": 19,
   "metadata": {
    "collapsed": false
   },
   "outputs": [
    {
     "data": {
      "text/plain": [
       "GridSearchCV(cv=StratifiedKFold(n_splits=5, random_state=42, shuffle=True),\n",
       "       error_score='raise',\n",
       "       estimator=XGBClassifier(base_score=0.5, colsample_bylevel=1, colsample_bytree=1,\n",
       "       gamma=0, learning_rate=0.1, max_delta_step=0, max_depth=3,\n",
       "       min_child_weight=1, missing=None, n_estimators=100, nthread=-1,\n",
       "       objective='binary:logistic', reg_alpha=0, reg_lambda=1,\n",
       "       scale_pos_weight=1, seed=0, silent=True, subsample=1),\n",
       "       fit_params={}, iid=True, n_jobs=-1,\n",
       "       param_grid={'n_estimators': [50, 100, 150], 'subsample': array([ 0.7 ,  0.85,  1.  ]), 'max_depth': [1, 3, 5], 'colsample_bylevel': array([ 0.6,  0.8,  1. ])},\n",
       "       pre_dispatch='2*n_jobs', refit=True, return_train_score=True,\n",
       "       scoring=None, verbose=0)"
      ]
     },
     "execution_count": 19,
     "metadata": {},
     "output_type": "execute_result"
    }
   ],
   "source": [
    "from xgboost import XGBClassifier\n",
    "from sklearn.model_selection import StratifiedKFold, GridSearchCV\n",
    "import numpy as np\n",
    "\n",
    "#X_train, X_test, y_train, y_test = train_test_split(X, y, test_size=0.2, random_state=42)\n",
    "\n",
    "xgb_model = XGBClassifier(learning_rate=0.1)\n",
    "subsample = np.linspace(0.7, 1.0, 3)\n",
    "colsample_bylevel = np.linspace(0.6, 1.0, 3)\n",
    "n_estimators=range(50, 200, 50)\n",
    "max_depth = [1, 3, 5]\n",
    "param_grid = dict(subsample=subsample, colsample_bylevel=colsample_bylevel, \n",
    "                  n_estimators=n_estimators, max_depth=max_depth)\n",
    "\n",
    "kfold = StratifiedKFold(n_splits=5, shuffle=True, random_state=42)\n",
    "grid_search = GridSearchCV(xgb_model, param_grid, n_jobs=-1, cv=kfold)\n",
    "grid_search.fit(X_train, y_train)"
   ]
  },
  {
   "cell_type": "code",
   "execution_count": null,
   "metadata": {
    "collapsed": true
   },
   "outputs": [],
   "source": []
  },
  {
   "cell_type": "code",
   "execution_count": null,
   "metadata": {
    "collapsed": false
   },
   "outputs": [],
   "source": [
    "df_test = pd.read_csv('q2/satelite_20_test.csv')\n",
    "df_test.head()"
   ]
  },
  {
   "cell_type": "code",
   "execution_count": 22,
   "metadata": {
    "collapsed": false
   },
   "outputs": [
    {
     "data": {
      "text/plain": [
       "array([0, 0, 1, 2, 0, 0, 2, 2, 1, 1, 2, 2])"
      ]
     },
     "execution_count": 22,
     "metadata": {},
     "output_type": "execute_result"
    }
   ],
   "source": [
    "grid_search.predict(df_test.values)"
   ]
  },
  {
   "cell_type": "code",
   "execution_count": null,
   "metadata": {
    "collapsed": true
   },
   "outputs": [],
   "source": []
  },
  {
   "cell_type": "code",
   "execution_count": null,
   "metadata": {
    "collapsed": true
   },
   "outputs": [],
   "source": []
  },
  {
   "cell_type": "markdown",
   "metadata": {},
   "source": [
    "# Q3"
   ]
  },
  {
   "cell_type": "code",
   "execution_count": 1,
   "metadata": {
    "collapsed": false
   },
   "outputs": [
    {
     "data": {
      "text/html": [
       "<div>\n",
       "<style>\n",
       "    .dataframe thead tr:only-child th {\n",
       "        text-align: right;\n",
       "    }\n",
       "\n",
       "    .dataframe thead th {\n",
       "        text-align: left;\n",
       "    }\n",
       "\n",
       "    .dataframe tbody tr th {\n",
       "        vertical-align: top;\n",
       "    }\n",
       "</style>\n",
       "<table border=\"1\" class=\"dataframe\">\n",
       "  <thead>\n",
       "    <tr style=\"text-align: right;\">\n",
       "      <th></th>\n",
       "      <th>from_dam</th>\n",
       "      <th>to_dam</th>\n",
       "      <th>amount</th>\n",
       "      <th>week</th>\n",
       "    </tr>\n",
       "  </thead>\n",
       "  <tbody>\n",
       "    <tr>\n",
       "      <th>0</th>\n",
       "      <td>2</td>\n",
       "      <td>7</td>\n",
       "      <td>685</td>\n",
       "      <td>1</td>\n",
       "    </tr>\n",
       "    <tr>\n",
       "      <th>1</th>\n",
       "      <td>3</td>\n",
       "      <td>8</td>\n",
       "      <td>423</td>\n",
       "      <td>2</td>\n",
       "    </tr>\n",
       "    <tr>\n",
       "      <th>2</th>\n",
       "      <td>6</td>\n",
       "      <td>9</td>\n",
       "      <td>1026</td>\n",
       "      <td>3</td>\n",
       "    </tr>\n",
       "    <tr>\n",
       "      <th>3</th>\n",
       "      <td>7</td>\n",
       "      <td>9</td>\n",
       "      <td>817</td>\n",
       "      <td>4</td>\n",
       "    </tr>\n",
       "    <tr>\n",
       "      <th>4</th>\n",
       "      <td>3</td>\n",
       "      <td>8</td>\n",
       "      <td>2858</td>\n",
       "      <td>5</td>\n",
       "    </tr>\n",
       "  </tbody>\n",
       "</table>\n",
       "</div>"
      ],
      "text/plain": [
       "   from_dam  to_dam  amount  week\n",
       "0         2       7     685     1\n",
       "1         3       8     423     2\n",
       "2         6       9    1026     3\n",
       "3         7       9     817     4\n",
       "4         3       8    2858     5"
      ]
     },
     "execution_count": 1,
     "metadata": {},
     "output_type": "execute_result"
    }
   ],
   "source": [
    "import pandas as pd\n",
    "\n",
    "df_dams = pd.read_csv('q3/dams.csv')\n",
    "df_dams.head()"
   ]
  },
  {
   "cell_type": "code",
   "execution_count": 2,
   "metadata": {
    "collapsed": false
   },
   "outputs": [],
   "source": [
    "from collections import defaultdict\n",
    "\n",
    "dam_connections = defaultdict(list)\n",
    "\n",
    "for from_dam, to_dam, amount in df_dams.drop('week', axis=1).values:\n",
    "    connection_pair = tuple(sorted([from_dam, to_dam]))\n",
    "    dam_connections[connection_pair].append(amount)\n",
    "\n",
    "# What do you mean by schematic"
   ]
  },
  {
   "cell_type": "code",
   "execution_count": null,
   "metadata": {
    "collapsed": true
   },
   "outputs": [],
   "source": []
  },
  {
   "cell_type": "code",
   "execution_count": 4,
   "metadata": {
    "collapsed": false
   },
   "outputs": [],
   "source": [
    "dam_volume = defaultdict(dict)\n",
    "all_dams = set(df_dams.from_dam)\n",
    "\n",
    "for dam in all_dams:\n",
    "    dam_volume[dam][0] = 10000\n",
    "\n",
    "for from_dam, to_dam, amount, week in df_dams.values:\n",
    "    if from_dam != to_dam:\n",
    "        dam_volume[from_dam][week] = dam_volume[from_dam][week - 1] - amount\n",
    "        dam_volume[to_dam][week] = dam_volume[to_dam][week - 1] + amount\n",
    "    else:\n",
    "        dam_volume[from_dam][week] = dam_volume[from_dam][week - 1]\n",
    "    \n",
    "    for dam in (all_dams - set([from_dam, to_dam])):\n",
    "        dam_volume[dam][week] = dam_volume[dam][week - 1]\n",
    "        \n",
    "    assert sum(dam_volume[dam][week] for dam in all_dams) == 100000, 'problem' # make sure all water is conserved"
   ]
  },
  {
   "cell_type": "code",
   "execution_count": 8,
   "metadata": {
    "collapsed": false
   },
   "outputs": [
    {
     "data": {
      "text/html": [
       "<div>\n",
       "<style>\n",
       "    .dataframe thead tr:only-child th {\n",
       "        text-align: right;\n",
       "    }\n",
       "\n",
       "    .dataframe thead th {\n",
       "        text-align: left;\n",
       "    }\n",
       "\n",
       "    .dataframe tbody tr th {\n",
       "        vertical-align: top;\n",
       "    }\n",
       "</style>\n",
       "<table border=\"1\" class=\"dataframe\">\n",
       "  <thead>\n",
       "    <tr style=\"text-align: right;\">\n",
       "      <th></th>\n",
       "      <th>1</th>\n",
       "      <th>2</th>\n",
       "      <th>3</th>\n",
       "      <th>4</th>\n",
       "      <th>5</th>\n",
       "      <th>6</th>\n",
       "      <th>7</th>\n",
       "      <th>8</th>\n",
       "      <th>9</th>\n",
       "      <th>10</th>\n",
       "    </tr>\n",
       "  </thead>\n",
       "  <tbody>\n",
       "    <tr>\n",
       "      <th>0</th>\n",
       "      <td>10000</td>\n",
       "      <td>10000</td>\n",
       "      <td>10000</td>\n",
       "      <td>10000</td>\n",
       "      <td>10000</td>\n",
       "      <td>10000</td>\n",
       "      <td>10000</td>\n",
       "      <td>10000</td>\n",
       "      <td>10000</td>\n",
       "      <td>10000</td>\n",
       "    </tr>\n",
       "    <tr>\n",
       "      <th>1</th>\n",
       "      <td>10000</td>\n",
       "      <td>9315</td>\n",
       "      <td>10000</td>\n",
       "      <td>10000</td>\n",
       "      <td>10000</td>\n",
       "      <td>10000</td>\n",
       "      <td>10685</td>\n",
       "      <td>10000</td>\n",
       "      <td>10000</td>\n",
       "      <td>10000</td>\n",
       "    </tr>\n",
       "    <tr>\n",
       "      <th>2</th>\n",
       "      <td>10000</td>\n",
       "      <td>9315</td>\n",
       "      <td>9577</td>\n",
       "      <td>10000</td>\n",
       "      <td>10000</td>\n",
       "      <td>10000</td>\n",
       "      <td>10685</td>\n",
       "      <td>10423</td>\n",
       "      <td>10000</td>\n",
       "      <td>10000</td>\n",
       "    </tr>\n",
       "    <tr>\n",
       "      <th>3</th>\n",
       "      <td>10000</td>\n",
       "      <td>9315</td>\n",
       "      <td>9577</td>\n",
       "      <td>10000</td>\n",
       "      <td>10000</td>\n",
       "      <td>8974</td>\n",
       "      <td>10685</td>\n",
       "      <td>10423</td>\n",
       "      <td>11026</td>\n",
       "      <td>10000</td>\n",
       "    </tr>\n",
       "    <tr>\n",
       "      <th>4</th>\n",
       "      <td>10000</td>\n",
       "      <td>9315</td>\n",
       "      <td>9577</td>\n",
       "      <td>10000</td>\n",
       "      <td>10000</td>\n",
       "      <td>8974</td>\n",
       "      <td>9868</td>\n",
       "      <td>10423</td>\n",
       "      <td>11843</td>\n",
       "      <td>10000</td>\n",
       "    </tr>\n",
       "  </tbody>\n",
       "</table>\n",
       "</div>"
      ],
      "text/plain": [
       "      1      2      3      4      5      6      7      8      9      10\n",
       "0  10000  10000  10000  10000  10000  10000  10000  10000  10000  10000\n",
       "1  10000   9315  10000  10000  10000  10000  10685  10000  10000  10000\n",
       "2  10000   9315   9577  10000  10000  10000  10685  10423  10000  10000\n",
       "3  10000   9315   9577  10000  10000   8974  10685  10423  11026  10000\n",
       "4  10000   9315   9577  10000  10000   8974   9868  10423  11843  10000"
      ]
     },
     "execution_count": 8,
     "metadata": {},
     "output_type": "execute_result"
    }
   ],
   "source": [
    "df_log = pd.read_csv('q3/foremen_log.csv')\n",
    "\n",
    "def get_cracked_dams(string):\n",
    "    if string == 'none':\n",
    "        return None\n",
    "    else:\n",
    "        return list(int(number) for number in string.split(', '))\n",
    "\n",
    "df_log['dams_cracked'] = df_log['dams_cracked'].apply(get_cracked_dams)\n",
    "\n",
    "pd.DataFrame(dam_volume).head() # ledger of dam volume"
   ]
  },
  {
   "cell_type": "code",
   "execution_count": 9,
   "metadata": {
    "collapsed": false
   },
   "outputs": [],
   "source": [
    "volume_in_cracked_dams = defaultdict(list)\n",
    "uncracked_dam_volumes = dict()\n",
    "\n",
    "for week, dams_cracked in df_log.values:\n",
    "    if dams_cracked:\n",
    "        for dam in dams_cracked:\n",
    "            volume_in_cracked_dams[dam].append(dam_volume[dam][week])\n",
    "        uncracked_dams = all_dams - set(dams_cracked)\n",
    "        uncracked_dam_volumes[week] = sorted(dam_volume[dam][week] for dam in uncracked_dams)[-1]\n",
    "    elif dams_cracked is None:\n",
    "        uncracked_dam_volumes[week] = sorted(dam_volume[dam][week] for dam in all_dams)[-1]\n",
    "    else:\n",
    "        \"Print unexpected error\""
   ]
  },
  {
   "cell_type": "code",
   "execution_count": 10,
   "metadata": {
    "collapsed": false
   },
   "outputs": [],
   "source": [
    "dam_threshold_no_crack = max(uncracked_dam_volumes.values())\n",
    "dam_threshold_crack = min(reduce(lambda x, y: x + y, volume_in_cracked_dams.values()))"
   ]
  },
  {
   "cell_type": "code",
   "execution_count": 13,
   "metadata": {
    "collapsed": false
   },
   "outputs": [
    {
     "name": "stdout",
     "output_type": "stream",
     "text": [
      "True\n"
     ]
    }
   ],
   "source": [
    "def predict_crack(dam_volume_list, dam_threshold_no_crack, dam_threshold_crack):\n",
    "    cracked_dams = []\n",
    "    undetermined_dams = []\n",
    "    for dam_number, volume in enumerate(dam_volume_list, 1):\n",
    "        if volume >= dam_threshold_crack:\n",
    "            cracked_dams.append(dam_number)\n",
    "        elif volume > dam_threshold_no_crack:\n",
    "            undetermined_dams.append(dam_number)\n",
    "    \n",
    "    if (not cracked_dams and not undetermined_dams):\n",
    "        return None\n",
    "    elif not undetermined_dams:\n",
    "        return cracked_dams\n",
    "    else:\n",
    "        return cracked_dams, undetermined_dams\n",
    "\n",
    "dam_predictions = pd.DataFrame(dam_volume).apply(lambda row: predict_crack(row, dam_threshold_no_crack, dam_threshold_crack), axis=1)\n",
    "print(pd.Series(dam_predictions)[1:31].values == df_log['dams_cracked'].values).all()"
   ]
  },
  {
   "cell_type": "code",
   "execution_count": 15,
   "metadata": {
    "collapsed": false
   },
   "outputs": [
    {
     "data": {
      "text/plain": [
       "0                 None\n",
       "1                 None\n",
       "2                 None\n",
       "3                 None\n",
       "4                 None\n",
       "5                 None\n",
       "6                 None\n",
       "7                 None\n",
       "8                 None\n",
       "9                 None\n",
       "10                None\n",
       "11                 [9]\n",
       "12                 [9]\n",
       "13                 [9]\n",
       "14                 [9]\n",
       "15                 [9]\n",
       "16                 [9]\n",
       "17                 [9]\n",
       "18                 [9]\n",
       "19                 [4]\n",
       "20              [4, 8]\n",
       "21           [4, 8, 9]\n",
       "22           [4, 8, 9]\n",
       "23           [4, 8, 9]\n",
       "24           [4, 8, 9]\n",
       "25              [4, 8]\n",
       "26              [4, 8]\n",
       "27              [4, 8]\n",
       "28                 [8]\n",
       "29                 [8]\n",
       "            ...       \n",
       "66    ([1, 4, 8], [6])\n",
       "67       ([1, 8], [6])\n",
       "68       ([1, 8], [6])\n",
       "69       ([1, 8], [6])\n",
       "70       ([1, 8], [6])\n",
       "71       ([1, 8], [6])\n",
       "72       ([1, 8], [6])\n",
       "73       ([1, 8], [6])\n",
       "74              [1, 8]\n",
       "75              [1, 8]\n",
       "76              [1, 8]\n",
       "77              [1, 8]\n",
       "78       ([1, 8], [6])\n",
       "79    ([1, 4, 8], [6])\n",
       "80           [1, 4, 8]\n",
       "81       ([4, 8], [1])\n",
       "82          ([8], [1])\n",
       "83                 [8]\n",
       "84                 [8]\n",
       "85                 [8]\n",
       "86                 [8]\n",
       "87                 [8]\n",
       "88                 [8]\n",
       "89                 [8]\n",
       "90                 [8]\n",
       "91                 [8]\n",
       "92                 [8]\n",
       "93                 [8]\n",
       "94             [8, 10]\n",
       "95             [8, 10]\n",
       "Length: 96, dtype: object"
      ]
     },
     "execution_count": 15,
     "metadata": {},
     "output_type": "execute_result"
    }
   ],
   "source": [
    "dam_predictions\n",
    "# if None, then no dams are broken\n",
    "# else, there can be 1 or 2 lists. The first list is known cracked dams. If the second list exists,\n",
    "# it would be dams that are not known whether to be cracked or not since they are below the minimum\n",
    "# cracked dam volume but also above the highest known uncracked dam volume"
   ]
  },
  {
   "cell_type": "code",
   "execution_count": null,
   "metadata": {
    "collapsed": true
   },
   "outputs": [],
   "source": []
  },
  {
   "cell_type": "markdown",
   "metadata": {},
   "source": [
    "# Deprecated"
   ]
  },
  {
   "cell_type": "code",
   "execution_count": 4,
   "metadata": {
    "collapsed": false
   },
   "outputs": [
    {
     "data": {
      "text/plain": [
       "array([[4247,    3],\n",
       "       [ 742,    8]])"
      ]
     },
     "execution_count": 4,
     "metadata": {},
     "output_type": "execute_result"
    }
   ],
   "source": [
    "from sklearn import naive_bayes\n",
    "\n",
    "clf = naive_bayes.BernoulliNB()\n",
    "clf.fit(X, y)\n",
    "\n",
    "predictions = clf.predict(X)\n",
    "confusion_matrix(y, clf.predict(X))"
   ]
  },
  {
   "cell_type": "code",
   "execution_count": 6,
   "metadata": {
    "collapsed": false,
    "scrolled": true
   },
   "outputs": [
    {
     "name": "stdout",
     "output_type": "stream",
     "text": [
      "[[4248    2]\n",
      " [ 745    5]]\n"
     ]
    }
   ],
   "source": [
    "from sklearn.linear_model import LogisticRegression\n",
    "\n",
    "clf = LogisticRegression()\n",
    "clf.fit(X, y)\n",
    "\n",
    "predictions = clf.predict(X)\n",
    "print(confusion_matrix(y, predictions))"
   ]
  }
 ],
 "metadata": {
  "kernelspec": {
   "display_name": "Python 2",
   "language": "python",
   "name": "python2"
  },
  "language_info": {
   "codemirror_mode": {
    "name": "ipython",
    "version": 2
   },
   "file_extension": ".py",
   "mimetype": "text/x-python",
   "name": "python",
   "nbconvert_exporter": "python",
   "pygments_lexer": "ipython2",
   "version": "2.7.11"
  }
 },
 "nbformat": 4,
 "nbformat_minor": 0
}
